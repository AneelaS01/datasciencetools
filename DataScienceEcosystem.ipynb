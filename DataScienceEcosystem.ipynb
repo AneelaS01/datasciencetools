{
 "cells": [
  {
   "cell_type": "markdown",
   "id": "6efde32d-100b-4278-b21f-2ddf1b6733cd",
   "metadata": {},
   "source": [
    "# Data Science Tools and Ecosystem"
   ]
  },
  {
   "cell_type": "markdown",
   "id": "d59e8ffe-56cf-43a3-a77c-0949bdfd4056",
   "metadata": {},
   "source": [
    "### In this notebook, Data Science Tools and Ecosystem are summarised."
   ]
  },
  {
   "cell_type": "markdown",
   "id": "60f57554-41af-48a8-b718-bb6ad0be7a35",
   "metadata": {},
   "source": [
    "__Objectives__"
   ]
  },
  {
   "cell_type": "markdown",
   "id": "061581c8-50c4-4f0a-89f5-6c82463499a8",
   "metadata": {},
   "source": [
    "* List popular languages used by data scientists\n",
    "* List popularly used data libraries\n",
    "* List open source data science tools\n",
    "* Perform some arithmetic queries using python"
   ]
  },
  {
   "cell_type": "markdown",
   "id": "e2e1b75a-ec48-4d46-975c-ca507912c820",
   "metadata": {},
   "source": [
    "#### Some of the popular languages that Data Scientists use are:"
   ]
  },
  {
   "cell_type": "markdown",
   "id": "462bfefc-7310-4083-a495-63f794b9a73a",
   "metadata": {},
   "source": [
    "1. Python\n",
    "2. Java\n",
    "3. C++\n",
    "4. SQL"
   ]
  },
  {
   "cell_type": "markdown",
   "id": "26e3791a-2079-424c-86c8-4d0f17e469e4",
   "metadata": {},
   "source": [
    "#### Some of the commonly used data libraries by Data Scientists are:"
   ]
  },
  {
   "cell_type": "markdown",
   "id": "b7f6523a-25fc-4349-9a56-c68be90bdc65",
   "metadata": {},
   "source": [
    "1. matplotlib\n",
    "2. NumPy\n",
    "3. Scikit-learn\n",
    "4. Pandas"
   ]
  },
  {
   "cell_type": "markdown",
   "id": "97639e6d-4f4f-420e-97f4-cc55b5b748b1",
   "metadata": {},
   "source": [
    "#### Popular open source Data Science Tools:"
   ]
  },
  {
   "cell_type": "markdown",
   "id": "44db220b-5a37-4a5a-a252-462ff9aafaa4",
   "metadata": {},
   "source": [
    "|Data Science Tools|\n",
    "|-------------------|\n",
    "|MySQL|\n",
    "|Ceph|\n",
    "|PostgreSQL|"
   ]
  },
  {
   "cell_type": "markdown",
   "id": "793a2e34-3711-4cfa-8b19-52cf92cacd98",
   "metadata": {},
   "source": [
    "### Below are a few examples evaluating arithmetic expressions in Python"
   ]
  },
  {
   "cell_type": "markdown",
   "id": "bd515342-ae07-4c3e-b30d-90b4004e07b5",
   "metadata": {},
   "source": [
    "##### This is a simple arithmetic expression to multiply then add integer"
   ]
  },
  {
   "cell_type": "code",
   "execution_count": 1,
   "id": "32d0a98f-52c9-40f3-ba63-266654f715ca",
   "metadata": {},
   "outputs": [
    {
     "data": {
      "text/plain": [
       "17"
      ]
     },
     "execution_count": 1,
     "metadata": {},
     "output_type": "execute_result"
    }
   ],
   "source": [
    "(3*4)+5"
   ]
  },
  {
   "cell_type": "markdown",
   "id": "fb0b06b1-69d1-4154-a3a1-c514188ff933",
   "metadata": {},
   "source": [
    "##### This will convert 200 minutes to hours by dividing by 60"
   ]
  },
  {
   "cell_type": "code",
   "execution_count": 2,
   "id": "f81ad369-2358-4a52-87fa-ca1b117dab6d",
   "metadata": {},
   "outputs": [
    {
     "data": {
      "text/plain": [
       "3.3333333333333335"
      ]
     },
     "execution_count": 2,
     "metadata": {},
     "output_type": "execute_result"
    }
   ],
   "source": [
    "(200/60)"
   ]
  },
  {
   "cell_type": "markdown",
   "id": "ca427be9-c336-41df-8058-cddd7d561d1f",
   "metadata": {},
   "source": [
    "## Author\n",
    "##### Aneela Singh"
   ]
  },
  {
   "cell_type": "code",
   "execution_count": null,
   "id": "6d033e89-d1a1-4497-a7e1-ead20b4d4772",
   "metadata": {},
   "outputs": [],
   "source": []
  }
 ],
 "metadata": {
  "kernelspec": {
   "display_name": "Python 3 (ipykernel)",
   "language": "python",
   "name": "python3"
  },
  "language_info": {
   "codemirror_mode": {
    "name": "ipython",
    "version": 3
   },
   "file_extension": ".py",
   "mimetype": "text/x-python",
   "name": "python",
   "nbconvert_exporter": "python",
   "pygments_lexer": "ipython3",
   "version": "3.11.9"
  }
 },
 "nbformat": 4,
 "nbformat_minor": 5
}
